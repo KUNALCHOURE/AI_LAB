{
 "cells": [
  {
   "cell_type": "markdown",
   "metadata": {
    "colab_type": "text",
    "id": "SZ-j28aPihZx"
   },
   "source": [
    "# PRACTICAL 4\n"
   ]
  },
  {
   "cell_type": "code",
   "execution_count": 80,
   "metadata": {},
   "outputs": [],
   "source": [
    "import math\n",
    "from collections import Counter\n",
    "from sklearn.model_selection import train_test_split\n",
    "from sklearn.datasets import load_iris"
   ]
  },
  {
   "cell_type": "markdown",
   "metadata": {},
   "source": [
    "## Load The Iris Dataset and also do train test split"
   ]
  },
  {
   "cell_type": "code",
   "execution_count": 88,
   "metadata": {},
   "outputs": [],
   "source": [
    "def load_data():\n",
    "    iris = load_iris()\n",
    "    X, y = iris.data, iris.target\n",
    "    return train_test_split(X, y, test_size=0.3, random_state=42)"
   ]
  },
  {
   "cell_type": "markdown",
   "metadata": {},
   "source": [
    "## Find the Eucledian Distance"
   ]
  },
  {
   "cell_type": "code",
   "execution_count": 82,
   "metadata": {},
   "outputs": [],
   "source": [
    "def dis(point1, point2):\n",
    "    return math.sqrt(sum((x - y) ** 2 for x, y in zip(point1, point2)))"
   ]
  },
  {
   "cell_type": "markdown",
   "metadata": {},
   "source": [
    "## K NEAREST NEIGHBOUR"
   ]
  },
  {
   "cell_type": "code",
   "execution_count": 83,
   "metadata": {},
   "outputs": [],
   "source": [
    "def KNN(X_train, y_train, test_point, k=3):\n",
    "    distances = []\n",
    "    for i, train_point in enumerate(X_train):\n",
    "        distance = dis(test_point, train_point)\n",
    "        distances.append((distance, y_train[i]))\n",
    "    distances.sort(key=lambda x: x[0])\n",
    "    k_nearest_neighbors = distances[:k]\n",
    "    \n",
    "    labels = [label for _, label in k_nearest_neighbors]\n",
    "    majority_vote = Counter(labels).most_common(1)[0][0]\n",
    "    return majority_vote"
   ]
  },
  {
   "cell_type": "markdown",
   "metadata": {},
   "source": [
    "## Weighted KNN"
   ]
  },
  {
   "cell_type": "code",
   "execution_count": 84,
   "metadata": {},
   "outputs": [],
   "source": [
    "def weighted_knn(X_train, y_train, test_point, k=3):\n",
    "    distances = []\n",
    "\n",
    "    for i, train_point in enumerate(X_train):\n",
    "        distance = dis(test_point, train_point)\n",
    "        distances.append((distance, y_train[i]))\n",
    "        \n",
    "    distances.sort(key=lambda x: x[0])\n",
    "    k_nearest_neighbors = distances[:k]\n",
    "  \n",
    "    weights = {}\n",
    "    for distance, label in k_nearest_neighbors:\n",
    "        if distance == 0:  \n",
    "            weight = float('inf')\n",
    "        else:\n",
    "            weight = 1 / distance\n",
    "        if label in weights:\n",
    "            weights[label] += weight\n",
    "        else:\n",
    "            weights[label] = weight\n",
    "\n",
    "    return max(weights, key=weights.get)"
   ]
  },
  {
   "cell_type": "markdown",
   "metadata": {},
   "source": [
    "##  Function to predict the result"
   ]
  },
  {
   "cell_type": "code",
   "execution_count": 85,
   "metadata": {},
   "outputs": [],
   "source": [
    "def predict(X_train, y_train, X_test, k=3, weighted=False):\n",
    "    predictions = []\n",
    "    for test_point in X_test:\n",
    "        if weighted:\n",
    "            predictions.append(weighted_knn(X_train, y_train, test_point, k))\n",
    "        else:\n",
    "            predictions.append(knn(X_train, y_train, test_point, k))\n",
    "    return predictions"
   ]
  },
  {
   "cell_type": "code",
   "execution_count": 86,
   "metadata": {},
   "outputs": [],
   "source": [
    "def accuracy(y_true, y_pred):\n",
    "    correct = sum(y1 == y2 for y1, y2 in zip(y_true, y_pred))\n",
    "    return correct / len(y_true)"
   ]
  },
  {
   "cell_type": "markdown",
   "metadata": {},
   "source": [
    "### Main Function to run all the functions"
   ]
  },
  {
   "cell_type": "code",
   "execution_count": 87,
   "metadata": {},
   "outputs": [
    {
     "name": "stdout",
     "output_type": "stream",
     "text": [
      "KNN Accuracy: 100.00%\n",
      "Weighted KNN Accuracy: 100.00%\n"
     ]
    }
   ],
   "source": [
    "if __name__ == \"__main__\":\n",
    "    X_train, X_test, y_train, y_test = load_data()\n",
    "    knn_predictions = predict(X_train, y_train, X_test, k=3, weighted=False)\n",
    "    knn_acc = accuracy(y_test, knn_predictions)\n",
    "    print(f\"KNN Accuracy: {knn_acc * 100:.2f}%\")\n",
    "    weighted_knn_predictions = predict(X_train, y_train, X_test, k=3, weighted=True)\n",
    "    weighted_knn_acc = accuracy(y_test, weighted_knn_predictions)\n",
    "    print(f\"Weighted KNN Accuracy: {weighted_knn_acc * 100:.2f}%\")"
   ]
  },
  {
   "cell_type": "code",
   "execution_count": null,
   "metadata": {},
   "outputs": [],
   "source": []
  },
  {
   "cell_type": "code",
   "execution_count": null,
   "metadata": {},
   "outputs": [],
   "source": []
  },
  {
   "cell_type": "code",
   "execution_count": null,
   "metadata": {},
   "outputs": [],
   "source": [
    "\n"
   ]
  }
 ],
 "metadata": {
  "colab": {
   "authorship_tag": "ABX9TyO/71HmJztjHpR9Q3DXpRZQ",
   "collapsed_sections": [],
   "machine_shape": "hm",
   "name": "k_nearest_neighbors.ipynb",
   "provenance": [],
   "toc_visible": true
  },
  "kernelspec": {
   "display_name": "Python 3 (ipykernel)",
   "language": "python",
   "name": "python3"
  },
  "language_info": {
   "codemirror_mode": {
    "name": "ipython",
    "version": 3
   },
   "file_extension": ".py",
   "mimetype": "text/x-python",
   "name": "python",
   "nbconvert_exporter": "python",
   "pygments_lexer": "ipython3",
   "version": "3.12.4"
  }
 },
 "nbformat": 4,
 "nbformat_minor": 4
}
